{
 "cells": [
  {
   "cell_type": "markdown",
   "metadata": {},
   "source": [
    "# Programming Assignment: \n",
    "## Готовим LDA по рецептам"
   ]
  },
  {
   "cell_type": "markdown",
   "metadata": {},
   "source": [
    "Как вы уже знаете, в тематическом моделировании делается предположение о том, что для определения тематики порядок слов в документе не важен; об этом гласит гипотеза «мешка слов». Сегодня мы будем работать с несколько нестандартной для тематического моделирования коллекцией, которую можно назвать «мешком ингредиентов», потому что на состоит из рецептов блюд разных кухонь. Тематические модели ищут слова, которые часто вместе встречаются в документах, и составляют из них темы. Мы попробуем применить эту идею к рецептам и найти кулинарные «темы». Эта коллекция хороша тем, что не требует предобработки. Кроме того, эта задача достаточно наглядно иллюстрирует принцип работы тематических моделей.\n",
    "\n",
    "Для выполнения заданий, помимо часто используемых в курсе библиотек, потребуются модули *json* и *gensim*. Первый входит в дистрибутив Anaconda, второй можно поставить командой \n",
    "\n",
    "*pip install gensim*\n",
    "\n",
    "Построение модели занимает некоторое время. На ноутбуке с процессором Intel Core i7 и тактовой частотой 2400 МГц на построение одной модели уходит менее 10 минут."
   ]
  },
  {
   "cell_type": "markdown",
   "metadata": {},
   "source": [
    "### Загрузка данных"
   ]
  },
  {
   "cell_type": "markdown",
   "metadata": {},
   "source": [
    "Коллекция дана в json-формате: для каждого рецепта известны его id, кухня (cuisine) и список ингредиентов, в него входящих. Загрузить данные можно с помощью модуля json (он входит в дистрибутив Anaconda):"
   ]
  },
  {
   "cell_type": "code",
   "execution_count": 1,
   "metadata": {},
   "outputs": [],
   "source": [
    "import json"
   ]
  },
  {
   "cell_type": "code",
   "execution_count": 2,
   "metadata": {},
   "outputs": [],
   "source": [
    "with open(\"recipes.json\") as f:\n",
    "    recipes = json.load(f)"
   ]
  },
  {
   "cell_type": "code",
   "execution_count": 3,
   "metadata": {},
   "outputs": [
    {
     "name": "stdout",
     "output_type": "stream",
     "text": [
      "{'id': 10259, 'cuisine': 'greek', 'ingredients': ['romaine lettuce', 'black olives', 'grape tomatoes', 'garlic', 'pepper', 'purple onion', 'seasoning', 'garbanzo beans', 'feta cheese crumbles']}\n"
     ]
    }
   ],
   "source": [
    "print(recipes[0])"
   ]
  },
  {
   "cell_type": "markdown",
   "metadata": {},
   "source": [
    "### Составление корпуса"
   ]
  },
  {
   "cell_type": "code",
   "execution_count": 4,
   "metadata": {},
   "outputs": [
    {
     "name": "stdout",
     "output_type": "stream",
     "text": [
      "Requirement already satisfied: gensim in /Users/amsavchenko/anaconda3/lib/python3.6/site-packages (3.6.0)\n",
      "Requirement already satisfied: scipy>=0.18.1 in /Users/amsavchenko/anaconda3/lib/python3.6/site-packages (from gensim) (1.1.0)\n",
      "Requirement already satisfied: numpy>=1.11.3 in /Users/amsavchenko/anaconda3/lib/python3.6/site-packages (from gensim) (1.17.2)\n",
      "Requirement already satisfied: smart-open>=1.2.1 in /Users/amsavchenko/anaconda3/lib/python3.6/site-packages (from gensim) (1.7.1)\n",
      "Requirement already satisfied: six>=1.5.0 in /Users/amsavchenko/anaconda3/lib/python3.6/site-packages (from gensim) (1.11.0)\n",
      "Requirement already satisfied: boto>=2.32 in /Users/amsavchenko/anaconda3/lib/python3.6/site-packages (from smart-open>=1.2.1->gensim) (2.48.0)\n",
      "Requirement already satisfied: bz2file in /Users/amsavchenko/anaconda3/lib/python3.6/site-packages (from smart-open>=1.2.1->gensim) (0.98)\n",
      "Requirement already satisfied: boto3 in /Users/amsavchenko/anaconda3/lib/python3.6/site-packages (from smart-open>=1.2.1->gensim) (1.9.42)\n",
      "Requirement already satisfied: requests in /Users/amsavchenko/anaconda3/lib/python3.6/site-packages (from smart-open>=1.2.1->gensim) (2.18.4)\n",
      "Requirement already satisfied: botocore<1.13.0,>=1.12.42 in /Users/amsavchenko/anaconda3/lib/python3.6/site-packages (from boto3->smart-open>=1.2.1->gensim) (1.12.42)\n",
      "Requirement already satisfied: s3transfer<0.2.0,>=0.1.10 in /Users/amsavchenko/anaconda3/lib/python3.6/site-packages (from boto3->smart-open>=1.2.1->gensim) (0.1.13)\n",
      "Requirement already satisfied: jmespath<1.0.0,>=0.7.1 in /Users/amsavchenko/anaconda3/lib/python3.6/site-packages (from boto3->smart-open>=1.2.1->gensim) (0.9.3)\n",
      "Requirement already satisfied: chardet<3.1.0,>=3.0.2 in /Users/amsavchenko/anaconda3/lib/python3.6/site-packages (from requests->smart-open>=1.2.1->gensim) (3.0.4)\n",
      "Requirement already satisfied: idna<2.7,>=2.5 in /Users/amsavchenko/anaconda3/lib/python3.6/site-packages (from requests->smart-open>=1.2.1->gensim) (2.6)\n",
      "Requirement already satisfied: urllib3<1.23,>=1.21.1 in /Users/amsavchenko/anaconda3/lib/python3.6/site-packages (from requests->smart-open>=1.2.1->gensim) (1.22)\n",
      "Requirement already satisfied: certifi>=2017.4.17 in /Users/amsavchenko/anaconda3/lib/python3.6/site-packages (from requests->smart-open>=1.2.1->gensim) (2020.4.5.1)\n",
      "Requirement already satisfied: python-dateutil<3.0.0,>=2.1; python_version >= \"2.7\" in /Users/amsavchenko/anaconda3/lib/python3.6/site-packages (from botocore<1.13.0,>=1.12.42->boto3->smart-open>=1.2.1->gensim) (2.7.3)\n",
      "Requirement already satisfied: docutils>=0.10 in /Users/amsavchenko/anaconda3/lib/python3.6/site-packages (from botocore<1.13.0,>=1.12.42->boto3->smart-open>=1.2.1->gensim) (0.14)\n",
      "\u001b[33mWARNING: You are using pip version 19.1.1, however version 20.2.1 is available.\n",
      "You should consider upgrading via the 'pip install --upgrade pip' command.\u001b[0m\n"
     ]
    }
   ],
   "source": [
    "!pip install gensim"
   ]
  },
  {
   "cell_type": "code",
   "execution_count": 5,
   "metadata": {},
   "outputs": [],
   "source": [
    "from gensim import corpora, models\n",
    "import numpy as np"
   ]
  },
  {
   "cell_type": "markdown",
   "metadata": {},
   "source": [
    "Наша коллекция небольшая, и целиком помещается в оперативную память. Gensim может работать с такими данными и не требует их сохранения на диск в специальном формате. Для этого коллекция должна быть представлена в виде списка списков, каждый внутренний список соответствует отдельному документу и состоит из его слов. Пример коллекции из двух документов: \n",
    "\n",
    "[[\"hello\", \"world\"], [\"programming\", \"in\", \"python\"]]\n",
    "\n",
    "Преобразуем наши данные в такой формат, а затем создадим объекты corpus и dictionary, с которыми будет работать модель."
   ]
  },
  {
   "cell_type": "code",
   "execution_count": 6,
   "metadata": {},
   "outputs": [],
   "source": [
    "texts = [recipe[\"ingredients\"] for recipe in recipes]\n",
    "dictionary = corpora.Dictionary(texts)   # составляем словарь\n",
    "corpus = [dictionary.doc2bow(text) for text in texts]  # составляем корпус документов"
   ]
  },
  {
   "cell_type": "code",
   "execution_count": 7,
   "metadata": {},
   "outputs": [
    {
     "name": "stdout",
     "output_type": "stream",
     "text": [
      "['romaine lettuce', 'black olives', 'grape tomatoes', 'garlic', 'pepper', 'purple onion', 'seasoning', 'garbanzo beans', 'feta cheese crumbles']\n",
      "[(0, 1), (1, 1), (2, 1), (3, 1), (4, 1), (5, 1), (6, 1), (7, 1), (8, 1)]\n"
     ]
    }
   ],
   "source": [
    "print(texts[0])\n",
    "print(corpus[0])"
   ]
  },
  {
   "cell_type": "markdown",
   "metadata": {},
   "source": [
    "У объекта dictionary есть полезная переменная dictionary.token2id, позволяющая находить соответствие между ингредиентами и их индексами."
   ]
  },
  {
   "cell_type": "markdown",
   "metadata": {},
   "source": [
    "### Обучение модели\n",
    "Вам может понадобиться [документация](https://radimrehurek.com/gensim/models/ldamodel.html) LDA в gensim."
   ]
  },
  {
   "cell_type": "markdown",
   "metadata": {},
   "source": [
    "__Задание 1.__ Обучите модель LDA с 40 темами, установив количество проходов по коллекции 5 и оставив остальные параметры по умолчанию. \n",
    "\n",
    "\n",
    "Затем вызовите метод модели *show_topics*, указав количество тем 40 и количество токенов 10, и сохраните результат (топы ингредиентов в темах) в отдельную переменную. Если при вызове метода *show_topics* указать параметр *formatted=True*, то топы ингредиентов будет удобно выводить на печать, если *formatted=False*, будет удобно работать со списком программно. Выведите топы на печать, рассмотрите темы, а затем ответьте на вопрос:\n",
    "\n",
    "Сколько раз ингредиенты \"salt\", \"sugar\", \"water\", \"mushrooms\", \"chicken\", \"eggs\" встретились среди топов-10 всех 40 тем? При ответе __не нужно__ учитывать составные ингредиенты, например, \"hot water\".\n",
    "\n",
    "Передайте 6 чисел в функцию save_answers1 и загрузите сгенерированный файл в форму.\n",
    "\n",
    "У gensim нет возможности фиксировать случайное приближение через параметры метода, но библиотека использует numpy для инициализации матриц. Поэтому, по утверждению автора библиотеки, фиксировать случайное приближение нужно командой, которая написана в следующей ячейке. __Перед строкой кода с построением модели обязательно вставляйте указанную строку фиксации random.seed.__"
   ]
  },
  {
   "cell_type": "code",
   "execution_count": 79,
   "metadata": {},
   "outputs": [],
   "source": [
    "np.random.seed(76543)\n",
    "# здесь код для построения модели:\n",
    "lda = models.LdaModel(corpus, id2word=dictionary, num_topics=40, passes=5)"
   ]
  },
  {
   "cell_type": "code",
   "execution_count": 21,
   "metadata": {},
   "outputs": [],
   "source": [
    "topics = lda.show_topics(num_topics=40, num_words=10, formatted=False)"
   ]
  },
  {
   "cell_type": "code",
   "execution_count": 31,
   "metadata": {},
   "outputs": [],
   "source": [
    "intresting_tokens = {}\n",
    "for ingredient in [\"salt\", \"sugar\", \"water\", \"mushrooms\", \"chicken\", \"eggs\"]:\n",
    "    intresting_tokens[ingredient] = dictionary.token2id[ingredient]"
   ]
  },
  {
   "cell_type": "code",
   "execution_count": 32,
   "metadata": {},
   "outputs": [],
   "source": [
    "c_salt, c_sugar, c_water, c_mushrooms, c_chicken, c_eggs = 0, 0, 0, 0, 0, 0 \n",
    "for topic in topics:\n",
    "    for pair in topic[1]:\n",
    "        token = int(pair[0])\n",
    "        if token == intresting_tokens['salt']:\n",
    "            c_salt += 1\n",
    "        elif token == intresting_tokens['sugar']:\n",
    "            c_sugar += 1\n",
    "        elif token == intresting_tokens['water']:\n",
    "            c_water += 1\n",
    "        elif token == intresting_tokens['mushrooms']:\n",
    "            c_mushrooms += 1\n",
    "        elif token == intresting_tokens['chicken']:\n",
    "            c_chicken += 1\n",
    "        elif token == intresting_tokens['eggs']:\n",
    "            c_eggs += 1"
   ]
  },
  {
   "cell_type": "code",
   "execution_count": 33,
   "metadata": {},
   "outputs": [
    {
     "data": {
      "text/plain": [
       "(23, 9, 10, 0, 1, 2)"
      ]
     },
     "execution_count": 33,
     "metadata": {},
     "output_type": "execute_result"
    }
   ],
   "source": [
    "c_salt, c_sugar, c_water, c_mushrooms, c_chicken, c_eggs"
   ]
  },
  {
   "cell_type": "code",
   "execution_count": 34,
   "metadata": {},
   "outputs": [],
   "source": [
    "def save_answers1(c_salt, c_sugar, c_water, c_mushrooms, c_chicken, c_eggs):\n",
    "    with open(\"cooking_LDA_pa_task1.txt\", \"w\") as fout:\n",
    "        fout.write(\" \".join([str(el) for el in [c_salt, c_sugar, c_water, c_mushrooms, c_chicken, c_eggs]]))"
   ]
  },
  {
   "cell_type": "code",
   "execution_count": 35,
   "metadata": {},
   "outputs": [],
   "source": [
    "save_answers1(c_salt, c_sugar, c_water, c_mushrooms, c_chicken, c_eggs)"
   ]
  },
  {
   "cell_type": "markdown",
   "metadata": {},
   "source": [
    "### Фильтрация словаря\n",
    "В топах тем гораздо чаще встречаются первые три рассмотренных ингредиента, чем последние три. При этом наличие в рецепте курицы, яиц и грибов яснее дает понять, что мы будем готовить, чем наличие соли, сахара и воды. Таким образом, даже в рецептах есть слова, часто встречающиеся в текстах и не несущие смысловой нагрузки, и поэтому их не желательно видеть в темах. Наиболее простой прием борьбы с такими фоновыми элементами — фильтрация словаря по частоте. Обычно словарь фильтруют с двух сторон: убирают очень редкие слова (в целях экономии памяти) и очень частые слова (в целях повышения интерпретируемости тем). Мы уберем только частые слова."
   ]
  },
  {
   "cell_type": "code",
   "execution_count": 61,
   "metadata": {},
   "outputs": [],
   "source": [
    "import copy\n",
    "dictionary2 = copy.deepcopy(dictionary)"
   ]
  },
  {
   "cell_type": "markdown",
   "metadata": {},
   "source": [
    "__Задание 2.__ У объекта dictionary2 есть переменная *dfs* — это словарь, ключами которого являются id токена, а элементами — число раз, сколько слово встретилось во всей коллекции. Сохраните в отдельный список ингредиенты, которые встретились в коллекции больше 4000 раз. Вызовите метод словаря *filter_tokens*, подав в качестве первого аргумента полученный список популярных ингредиентов. Вычислите две величины: dict_size_before и dict_size_after — размер словаря до и после фильтрации.\n",
    "\n",
    "Затем, используя новый словарь, создайте новый корпус документов, corpus2, по аналогии с тем, как это сделано в начале ноутбука. Вычислите две величины: corpus_size_before и corpus_size_after — суммарное количество ингредиентов в корпусе (для каждого документа вычислите число различных ингредиентов в нем и просуммируйте по всем документам) до и после фильтрации.\n",
    "\n",
    "Передайте величины dict_size_before, dict_size_after, corpus_size_before, corpus_size_after в функцию save_answers2 и загрузите сгенерированный файл в форму."
   ]
  },
  {
   "cell_type": "code",
   "execution_count": 62,
   "metadata": {},
   "outputs": [],
   "source": [
    "popular_ingredients = []\n",
    "for key, value in dictionary2.dfs.items():\n",
    "    if value >= 4000:\n",
    "        popular_ingredients.append(key)"
   ]
  },
  {
   "cell_type": "code",
   "execution_count": 63,
   "metadata": {},
   "outputs": [],
   "source": [
    "dictionary2.filter_tokens(bad_ids=popular_ingredients)"
   ]
  },
  {
   "cell_type": "code",
   "execution_count": 64,
   "metadata": {},
   "outputs": [],
   "source": [
    "dict_size_before = len(dictionary.dfs)\n",
    "dict_size_after = len(dictionary2.dfs)"
   ]
  },
  {
   "cell_type": "code",
   "execution_count": 65,
   "metadata": {},
   "outputs": [],
   "source": [
    "corpus2 = [dictionary2.doc2bow(text) for text in texts]"
   ]
  },
  {
   "cell_type": "code",
   "execution_count": 66,
   "metadata": {},
   "outputs": [],
   "source": [
    "corpus_size_before, corpus_size_after = 0, 0\n",
    "\n",
    "for text in corpus:\n",
    "    corpus_size_before += len(text)\n",
    "    \n",
    "for text in corpus2:\n",
    "    corpus_size_after += len(text)"
   ]
  },
  {
   "cell_type": "code",
   "execution_count": 67,
   "metadata": {},
   "outputs": [],
   "source": [
    "def save_answers2(dict_size_before, dict_size_after, corpus_size_before, corpus_size_after):\n",
    "    with open(\"cooking_LDA_pa_task2.txt\", \"w\") as fout:\n",
    "        fout.write(\" \".join([str(el) for el in [dict_size_before, dict_size_after, corpus_size_before, corpus_size_after]]))"
   ]
  },
  {
   "cell_type": "code",
   "execution_count": 68,
   "metadata": {},
   "outputs": [],
   "source": [
    "save_answers2(dict_size_before, dict_size_after, corpus_size_before, corpus_size_after)"
   ]
  },
  {
   "cell_type": "markdown",
   "metadata": {},
   "source": [
    "### Сравнение когерентностей\n",
    "__Задание 3.__ Постройте еще одну модель по корпусу corpus2 и словарю dictionary2, остальные параметры оставьте такими же, как при первом построении модели. Сохраните новую модель в другую переменную (не перезаписывайте предыдущую модель). Не забудьте про фиксирование seed!\n",
    "\n",
    "Затем воспользуйтесь методом *top_topics* модели, чтобы вычислить ее когерентность. Передайте в качестве аргумента соответствующий модели корпус. Метод вернет список кортежей (топ токенов, когерентность), отсортированных по убыванию последней. Вычислите среднюю по всем темам когерентность для каждой из двух моделей и передайте в функцию save_answers3. "
   ]
  },
  {
   "cell_type": "code",
   "execution_count": 87,
   "metadata": {},
   "outputs": [],
   "source": [
    "np.random.seed(76543)\n",
    "lda2 = models.LdaMulticore(corpus2, id2word=dictionary2, num_topics=40, passes=5)"
   ]
  },
  {
   "cell_type": "code",
   "execution_count": 75,
   "metadata": {},
   "outputs": [
    {
     "data": {
      "text/plain": [
       "[([(0.09877128, 'sour cream'),\n",
       "   (0.060240835, 'salsa'),\n",
       "   (0.059469435, 'flour tortillas'),\n",
       "   (0.048708133, 'chili powder'),\n",
       "   (0.046801064, 'black beans'),\n",
       "   (0.037542593, 'ground cumin'),\n",
       "   (0.03620245, 'corn tortillas'),\n",
       "   (0.027796986, 'cheddar cheese'),\n",
       "   (0.027411165, 'cheese'),\n",
       "   (0.026137218, 'green onions'),\n",
       "   (0.025705561, 'shredded cheddar cheese'),\n",
       "   (0.022169987, 'shredded Monterey Jack cheese'),\n",
       "   (0.019954354, 'enchilada sauce'),\n",
       "   (0.019875987, 'cooked chicken'),\n",
       "   (0.01891236, 'cumin'),\n",
       "   (0.017924253, 'diced tomatoes'),\n",
       "   (0.017638432, 'green chile'),\n",
       "   (0.016457144, 'tomatoes'),\n",
       "   (0.015870526, 'avocado'),\n",
       "   (0.015768258, 'chicken broth')],\n",
       "  -2.6749052881817668),\n",
       " ([(0.08028211, 'jalapeno chilies'),\n",
       "   (0.059896395, 'lime'),\n",
       "   (0.054322086, 'chopped cilantro fresh'),\n",
       "   (0.05128065, 'lime juice'),\n",
       "   (0.050829157, 'avocado'),\n",
       "   (0.042084843, 'purple onion'),\n",
       "   (0.04121177, 'fresh lime juice'),\n",
       "   (0.037076257, 'cilantro'),\n",
       "   (0.034444723, 'ground cumin'),\n",
       "   (0.033852816, 'chopped cilantro'),\n",
       "   (0.031667504, 'fresh cilantro'),\n",
       "   (0.030410077, 'tomatoes'),\n",
       "   (0.027009545, 'kosher salt'),\n",
       "   (0.023662997, 'cilantro leaves'),\n",
       "   (0.022709377, 'corn tortillas'),\n",
       "   (0.021659909, 'white onion'),\n",
       "   (0.018096386, 'tomatillos'),\n",
       "   (0.017441334, 'lime wedges'),\n",
       "   (0.0147628505, 'serrano chile'),\n",
       "   (0.014176592, 'chili powder')],\n",
       "  -2.730353527743605),\n",
       " ([(0.10989109, 'soy sauce'),\n",
       "   (0.056093726, 'sesame oil'),\n",
       "   (0.046242874, 'green onions'),\n",
       "   (0.044837415, 'scallions'),\n",
       "   (0.04475944, 'corn starch'),\n",
       "   (0.040763225, 'rice vinegar'),\n",
       "   (0.03256597, 'ginger'),\n",
       "   (0.024283664, 'fresh ginger'),\n",
       "   (0.023076171, 'carrots'),\n",
       "   (0.019898303, 'sesame seeds'),\n",
       "   (0.016761636, 'oil'),\n",
       "   (0.01629872, 'brown sugar'),\n",
       "   (0.0152840605, 'peanut oil'),\n",
       "   (0.014987374, 'mirin'),\n",
       "   (0.014177693, 'honey'),\n",
       "   (0.014173661, 'oyster sauce'),\n",
       "   (0.013769069, 'minced garlic'),\n",
       "   (0.013396262, 'eggs'),\n",
       "   (0.013261702, 'hoisin sauce'),\n",
       "   (0.011938718, 'light soy sauce')],\n",
       "  -2.7972505971801267),\n",
       " ([(0.05807936, 'bay leaves'),\n",
       "   (0.050357264, 'celery'),\n",
       "   (0.038594384, 'shrimp'),\n",
       "   (0.038093153, 'bay leaf'),\n",
       "   (0.03512005, 'celery ribs'),\n",
       "   (0.034005105, 'chicken broth'),\n",
       "   (0.032965727, 'dried thyme'),\n",
       "   (0.03132212, 'green bell pepper'),\n",
       "   (0.029658262, 'tomato paste'),\n",
       "   (0.029444005, 'yellow onion'),\n",
       "   (0.028582646, 'carrots'),\n",
       "   (0.027306981, 'thyme'),\n",
       "   (0.0236548, 'chicken stock'),\n",
       "   (0.022812264, 'dry red wine'),\n",
       "   (0.020780282, 'chicken'),\n",
       "   (0.020292964, 'andouille sausage'),\n",
       "   (0.020052858, 'long grain white rice'),\n",
       "   (0.018537385, 'fresh parsley'),\n",
       "   (0.01781932, 'kosher salt'),\n",
       "   (0.017433753, 'black pepper')],\n",
       "  -2.8885041358900936),\n",
       " ([(0.09381287, 'unsalted butter'),\n",
       "   (0.08545902, 'vanilla extract'),\n",
       "   (0.061054006, 'heavy cream'),\n",
       "   (0.056784503, 'large eggs'),\n",
       "   (0.05033683, 'granulated sugar'),\n",
       "   (0.04894153, 'white sugar'),\n",
       "   (0.03873914, 'large egg yolks'),\n",
       "   (0.038230646, 'egg yolks'),\n",
       "   (0.0322233, 'powdered sugar'),\n",
       "   (0.028650282, 'egg whites'),\n",
       "   (0.028376166, 'confectioners sugar'),\n",
       "   (0.023811374, 'milk'),\n",
       "   (0.023431731, 'eggs'),\n",
       "   (0.022947358, 'baking powder'),\n",
       "   (0.021765186, 'corn starch'),\n",
       "   (0.021008845, 'whole milk'),\n",
       "   (0.0190175, 'ground cinnamon'),\n",
       "   (0.018584138, 'unsweetened cocoa powder'),\n",
       "   (0.016094234, 'whipping cream'),\n",
       "   (0.014365378, 'shortening')],\n",
       "  -3.191578462414551),\n",
       " ([(0.12502784, 'garlic powder'),\n",
       "   (0.096944526, 'cayenne pepper'),\n",
       "   (0.0948272, 'paprika'),\n",
       "   (0.047085106, 'onion powder'),\n",
       "   (0.045181368, 'black pepper'),\n",
       "   (0.04067123, 'oregano'),\n",
       "   (0.032569382, 'cracked black pepper'),\n",
       "   (0.03203532, 'chili powder'),\n",
       "   (0.031244606, 'smoked paprika'),\n",
       "   (0.026699271, 'bell pepper'),\n",
       "   (0.02490999, 'cumin'),\n",
       "   (0.023925815, 'diced onions'),\n",
       "   (0.023464814, 'okra'),\n",
       "   (0.021603266, 'dried oregano'),\n",
       "   (0.020344159, 'lemon wedge'),\n",
       "   (0.019198991, 'ground cumin'),\n",
       "   (0.018909993, 'diced tomatoes'),\n",
       "   (0.018589566, 'kosher salt'),\n",
       "   (0.01594991, 'stewed tomatoes'),\n",
       "   (0.01450648, 'white rice')],\n",
       "  -3.7779171699948106),\n",
       " ([(0.09323658, 'ground cumin'),\n",
       "   (0.06612957, 'ground coriander'),\n",
       "   (0.06337555, 'ground turmeric'),\n",
       "   (0.048010353, 'cumin seed'),\n",
       "   (0.03879298, 'garam masala'),\n",
       "   (0.03255093, 'ginger'),\n",
       "   (0.02384849, 'mustard seeds'),\n",
       "   (0.022849219, 'cayenne pepper'),\n",
       "   (0.020053254, 'tomatoes'),\n",
       "   (0.019778859, 'fresh coriander'),\n",
       "   (0.019344514, 'chopped cilantro fresh'),\n",
       "   (0.01912375, 'chili powder'),\n",
       "   (0.018953945, 'cauliflower'),\n",
       "   (0.017709568, 'paprika'),\n",
       "   (0.017103666, 'curry leaves'),\n",
       "   (0.015836177, 'thai chile'),\n",
       "   (0.015586554, 'red chili powder'),\n",
       "   (0.015446751, 'kosher salt'),\n",
       "   (0.014560837, 'couscous'),\n",
       "   (0.013920542, 'plain yogurt')],\n",
       "  -3.816589467469193),\n",
       " ([(0.15777582, 'extra-virgin olive oil'),\n",
       "   (0.07214125, 'freshly ground pepper'),\n",
       "   (0.066518106, 'flat leaf parsley'),\n",
       "   (0.053079043, 'kosher salt'),\n",
       "   (0.047403794, 'unsalted butter'),\n",
       "   (0.044022843, 'large garlic cloves'),\n",
       "   (0.03140436, 'parmigiano reggiano cheese'),\n",
       "   (0.027844338, 'dry white wine'),\n",
       "   (0.025496956, 'chopped parsley'),\n",
       "   (0.024964338, 'large shrimp'),\n",
       "   (0.02368119, 'sea salt'),\n",
       "   (0.023643719, 'large eggs'),\n",
       "   (0.021276243, 'plum tomatoes'),\n",
       "   (0.021085424, 'russet potatoes'),\n",
       "   (0.016645566, 'baking potatoes'),\n",
       "   (0.015972998, 'fresh rosemary'),\n",
       "   (0.015660444, 'black pepper'),\n",
       "   (0.014701655, 'bread crumb fresh'),\n",
       "   (0.014328716, 'heavy cream'),\n",
       "   (0.014183203, 'chopped fresh thyme')],\n",
       "  -3.833443997566845),\n",
       " ([(0.12403951, 'oil'),\n",
       "   (0.05857689, 'green chilies'),\n",
       "   (0.042634305, 'chili powder'),\n",
       "   (0.03843993, 'garam masala'),\n",
       "   (0.036273524, 'tomatoes'),\n",
       "   (0.032470185, 'cilantro leaves'),\n",
       "   (0.03073674, 'garlic paste'),\n",
       "   (0.024849342, 'coriander powder'),\n",
       "   (0.023470193, 'ginger'),\n",
       "   (0.023160486, 'ghee'),\n",
       "   (0.02253303, 'tumeric'),\n",
       "   (0.020967258, 'yoghurt'),\n",
       "   (0.020032529, 'whole wheat flour'),\n",
       "   (0.019879632, 'ground turmeric'),\n",
       "   (0.01969219, 'cumin seed'),\n",
       "   (0.018924305, 'potatoes'),\n",
       "   (0.017764134, 'coriander'),\n",
       "   (0.015209533, 'ginger paste'),\n",
       "   (0.014526422, 'seeds'),\n",
       "   (0.014024722, 'parsley sprigs')],\n",
       "  -4.0901156183252),\n",
       " ([(0.12364852, 'chopped onion'),\n",
       "   (0.057959467, 'ground red pepper'),\n",
       "   (0.055772062, 'boneless skinless chicken breast halves'),\n",
       "   (0.049076494, 'fat free less sodium chicken broth'),\n",
       "   (0.04796824, 'finely chopped onion'),\n",
       "   (0.042765033, 'cooking spray'),\n",
       "   (0.042087, 'chopped celery'),\n",
       "   (0.036619753, 'long-grain rice'),\n",
       "   (0.02833235, 'sliced mushrooms'),\n",
       "   (0.026213761, 'chopped green bell pepper'),\n",
       "   (0.02454507, 'chopped pecans'),\n",
       "   (0.023060748, 'black pepper'),\n",
       "   (0.022428442, 'vegetable oil cooking spray'),\n",
       "   (0.020986807, 'creole seasoning'),\n",
       "   (0.019608362, 'fresh parsley'),\n",
       "   (0.01943847, 'minced garlic'),\n",
       "   (0.019296488, 'green onions'),\n",
       "   (0.019054051, 'diced tomatoes'),\n",
       "   (0.012831289, 'margarine'),\n",
       "   (0.0118432995, 'dry sherry')],\n",
       "  -4.0999668012617585),\n",
       " ([(0.09543416, 'fresh basil'),\n",
       "   (0.057711028, 'crushed red pepper'),\n",
       "   (0.05364336, 'dried oregano'),\n",
       "   (0.051432036, 'dried basil'),\n",
       "   (0.042950105, 'grated parmesan cheese'),\n",
       "   (0.0339158, 'ricotta cheese'),\n",
       "   (0.02940041, 'diced tomatoes'),\n",
       "   (0.026638225, 'spaghetti'),\n",
       "   (0.025687393, 'cooking spray'),\n",
       "   (0.025437264, 'fresh parsley'),\n",
       "   (0.023767017, 'fresh mushrooms'),\n",
       "   (0.023625925, 'fresh parmesan cheese'),\n",
       "   (0.021273773, 'tomatoes'),\n",
       "   (0.021014202, 'black pepper'),\n",
       "   (0.02068014, 'marinara sauce'),\n",
       "   (0.019893648, 'part-skim mozzarella cheese'),\n",
       "   (0.019704437, 'linguine'),\n",
       "   (0.018472053, 'evaporated milk'),\n",
       "   (0.0165099, 'zucchini'),\n",
       "   (0.015281337, 'tomato paste')],\n",
       "  -4.528386457719043),\n",
       " ([(0.1429454, 'fresh lemon juice'),\n",
       "   (0.06709431, 'extra-virgin olive oil'),\n",
       "   (0.06491651, 'red wine vinegar'),\n",
       "   (0.04812757, 'purple onion'),\n",
       "   (0.045878097, 'capers'),\n",
       "   (0.042414065, 'fresh parsley'),\n",
       "   (0.038327694, 'tomatoes'),\n",
       "   (0.027209364, 'lemon'),\n",
       "   (0.024541913, 'sweet onion'),\n",
       "   (0.022768334, 'feta cheese'),\n",
       "   (0.022615632, 'baguette'),\n",
       "   (0.02014676, 'shallots'),\n",
       "   (0.019555489, 'white wine'),\n",
       "   (0.019419655, 'chopped fresh chives'),\n",
       "   (0.01895138, 'flat leaf parsley'),\n",
       "   (0.018617222, 'pitted kalamata olives'),\n",
       "   (0.018034963, 'dijon mustard'),\n",
       "   (0.016618941, 'black-eyed peas'),\n",
       "   (0.016465992, 'black pepper'),\n",
       "   (0.01636211, 'anchovy fillets')],\n",
       "  -4.835342993036733),\n",
       " ([(0.10483848, 'boneless skinless chicken breasts'),\n",
       "   (0.080280654, 'curry powder'),\n",
       "   (0.07502249, 'chicken breasts'),\n",
       "   (0.055014327, 'fresh ginger'),\n",
       "   (0.051723517, 'coconut milk'),\n",
       "   (0.04306371, 'ground white pepper'),\n",
       "   (0.033706803, 'brown sugar'),\n",
       "   (0.027319454, 'boneless chicken skinless thigh'),\n",
       "   (0.027043931, 'green beans'),\n",
       "   (0.026124276, 'red pepper'),\n",
       "   (0.022759456, 'low sodium soy sauce'),\n",
       "   (0.021765316, 'cooked rice'),\n",
       "   (0.021010777, 'chicken broth'),\n",
       "   (0.017580772, 'rice flour'),\n",
       "   (0.016413394, 'pork shoulder'),\n",
       "   (0.016281849, 'canola oil'),\n",
       "   (0.015949178, 'red cabbage'),\n",
       "   (0.01310834, 'curry paste'),\n",
       "   (0.012504741, 'chicken stock'),\n",
       "   (0.011223398, 'cilantro leaves')],\n",
       "  -5.350844579718387),\n",
       " ([(0.13748346, 'grated parmesan cheese'),\n",
       "   (0.050900746, 'mozzarella cheese'),\n",
       "   (0.044684444, 'parmesan cheese'),\n",
       "   (0.04064104, 'eggs'),\n",
       "   (0.038039584, 'shredded mozzarella cheese'),\n",
       "   (0.037950173, 'italian seasoning'),\n",
       "   (0.031920392, 'pasta'),\n",
       "   (0.031653065, 'fresh basil leaves'),\n",
       "   (0.029120738, 'dry bread crumbs'),\n",
       "   (0.027708134, 'pasta sauce'),\n",
       "   (0.023703175, 'nutmeg'),\n",
       "   (0.022241851, 'fresh parsley'),\n",
       "   (0.022000244, 'lasagna noodles'),\n",
       "   (0.021880317, 'roasted red peppers'),\n",
       "   (0.01995612, 'basil'),\n",
       "   (0.018594433, 'pinenuts'),\n",
       "   (0.016341094, 'chicken breast halves'),\n",
       "   (0.015682612, 'fettucine'),\n",
       "   (0.015257529, 'ground beef'),\n",
       "   (0.01496409, 'bread')],\n",
       "  -5.574744016801728),\n",
       " ([(0.09325048, 'cinnamon sticks'),\n",
       "   (0.074856795, 'clove'),\n",
       "   (0.072707, 'black peppercorns'),\n",
       "   (0.0436553, 'coriander seeds'),\n",
       "   (0.0414833, 'fennel seeds'),\n",
       "   (0.036032684, 'bay leaves'),\n",
       "   (0.032389224, 'basmati rice'),\n",
       "   (0.031904865, 'saffron'),\n",
       "   (0.031459417, 'orange'),\n",
       "   (0.02678685, 'almonds'),\n",
       "   (0.025902018, 'tomato purée'),\n",
       "   (0.02527701, 'cumin seed'),\n",
       "   (0.019175993, 'ground lamb'),\n",
       "   (0.018140428, 'meat'),\n",
       "   (0.018120952, 'fresh ginger'),\n",
       "   (0.017811015, 'bay leaf'),\n",
       "   (0.017457709, 'serrano peppers'),\n",
       "   (0.016239721, 'molasses'),\n",
       "   (0.015800316, 'spinach'),\n",
       "   (0.01563956, 'cinnamon')],\n",
       "  -5.880701271440591),\n",
       " ([(0.09360148, 'honey'),\n",
       "   (0.0850834, 'ground ginger'),\n",
       "   (0.058141284, 'ground cinnamon'),\n",
       "   (0.04867032, 'orange juice'),\n",
       "   (0.04546007, 'cayenne'),\n",
       "   (0.03746598, 'raisins'),\n",
       "   (0.02763218, 'golden raisins'),\n",
       "   (0.027494919, 'fresh orange juice'),\n",
       "   (0.02129646, 'orange zest'),\n",
       "   (0.019997401, 'ground cumin'),\n",
       "   (0.019199573, 'apples'),\n",
       "   (0.018481415, 'brown sugar'),\n",
       "   (0.017856749, 'lemon juice'),\n",
       "   (0.017217996, 'sweet paprika'),\n",
       "   (0.017104406, 'sliced almonds'),\n",
       "   (0.016625063, 'sausage casings'),\n",
       "   (0.013660434, 'orange'),\n",
       "   (0.0132231815, 'garbanzo beans'),\n",
       "   (0.012425171, 'cinnamon'),\n",
       "   (0.012301848, 'blanched almonds')],\n",
       "  -6.542130316057704),\n",
       " ([(0.17248227, 'carrots'),\n",
       "   (0.07715367, 'potatoes'),\n",
       "   (0.041583046, 'peanuts'),\n",
       "   (0.040412724, 'leeks'),\n",
       "   (0.03413024, 'fresh thyme'),\n",
       "   (0.033332955, 'cabbage'),\n",
       "   (0.026190246, 'rice noodles'),\n",
       "   (0.024147714, 'greek yogurt'),\n",
       "   (0.023617003, 'pork'),\n",
       "   (0.019374602, 'green peas'),\n",
       "   (0.019192223, 'vinegar'),\n",
       "   (0.018940989, 'zucchini'),\n",
       "   (0.018896312, 'green cabbage'),\n",
       "   (0.018070797, 'peas'),\n",
       "   (0.017846515, 'fresh rosemary'),\n",
       "   (0.01730926, 'celery'),\n",
       "   (0.016925229, 'bay leaf'),\n",
       "   (0.01692267, 'butternut squash'),\n",
       "   (0.016430639, 'shallots'),\n",
       "   (0.01641286, 'mussels')],\n",
       "  -6.785823590218818),\n",
       " ([(0.15118611, 'milk'),\n",
       "   (0.10695209, 'baking powder'),\n",
       "   (0.10470208, 'eggs'),\n",
       "   (0.07253607, 'baking soda'),\n",
       "   (0.06353882, 'buttermilk'),\n",
       "   (0.050346375, 'large eggs'),\n",
       "   (0.026496539, 'yellow corn meal'),\n",
       "   (0.026341364, 'cream cheese'),\n",
       "   (0.02307839, 'cornmeal'),\n",
       "   (0.02084201, 'vanilla'),\n",
       "   (0.017824102, 'strawberries'),\n",
       "   (0.017490383, 'boiling water'),\n",
       "   (0.017103726, 'bananas'),\n",
       "   (0.016949702, 'white sugar'),\n",
       "   (0.014340873, 'brown sugar'),\n",
       "   (0.011846887, 'ancho chile pepper'),\n",
       "   (0.010503638, 'lemon juice'),\n",
       "   (0.009536717, 'pimentos'),\n",
       "   (0.0090946155, 'pizza doughs'),\n",
       "   (0.008454589, 'sharp cheddar cheese')],\n",
       "  -6.8554687044253475),\n",
       " ([(0.11488249, 'ground beef'),\n",
       "   (0.090957336, 'tomato sauce'),\n",
       "   (0.06474961, 'lean ground beef'),\n",
       "   (0.06443608, 'shredded cheddar cheese'),\n",
       "   (0.03626835, 'refried beans'),\n",
       "   (0.026281454, 'dried parsley'),\n",
       "   (0.025565557, 'black olives'),\n",
       "   (0.025321582, 'taco seasoning mix'),\n",
       "   (0.024614308, 'sliced black olives'),\n",
       "   (0.024613345, 'diced tomatoes'),\n",
       "   (0.023987249, 'eggs'),\n",
       "   (0.023381688, 'Mexican cheese blend'),\n",
       "   (0.020946242, 'green onions'),\n",
       "   (0.019394966, 'shredded carrots'),\n",
       "   (0.019253401, 'tomato paste'),\n",
       "   (0.017433308, 'tomatoes'),\n",
       "   (0.016587265, 'canned low sodium chicken broth'),\n",
       "   (0.0155989025, 'cottage cheese'),\n",
       "   (0.015519801, 'tomato juice'),\n",
       "   (0.0154469395, 'egg noodles')],\n",
       "  -6.97710916450928),\n",
       " ([(0.07556913, 'tumeric'),\n",
       "   (0.05576608, 'chickpeas'),\n",
       "   (0.050236806, 'frozen peas'),\n",
       "   (0.04072037, 'coriander'),\n",
       "   (0.037343375, 'juice'),\n",
       "   (0.033654835, 'basil leaves'),\n",
       "   (0.032435667, 'noodles'),\n",
       "   (0.028977985, 'chopped tomatoes'),\n",
       "   (0.02737381, 'cilantro sprigs'),\n",
       "   (0.025146348, 'hot red pepper flakes'),\n",
       "   (0.023560822, 'ginger'),\n",
       "   (0.02270552, 'ground turkey'),\n",
       "   (0.022675233, 'spices'),\n",
       "   (0.021538146, 'cashew nuts'),\n",
       "   (0.021374853, 'fresh ginger'),\n",
       "   (0.021008901, 'vegetable stock'),\n",
       "   (0.020744601, 'tomatoes'),\n",
       "   (0.017031496, 'lemon'),\n",
       "   (0.016510969, 'chicken stock'),\n",
       "   (0.016039282, 'walnuts')],\n",
       "  -7.03659616452875),\n",
       " ([(0.08716215, 'ground nutmeg'),\n",
       "   (0.077174485, 'dried thyme'),\n",
       "   (0.06884319, 'sweet potatoes'),\n",
       "   (0.059776224, 'coarse salt'),\n",
       "   (0.058918208, 'ground cloves'),\n",
       "   (0.05369648, 'ground pepper'),\n",
       "   (0.04335688, 'melted butter'),\n",
       "   (0.042131428, 'ground cinnamon'),\n",
       "   (0.037015136, 'half & half'),\n",
       "   (0.0359835, 'ground allspice'),\n",
       "   (0.032264996, 'cinnamon'),\n",
       "   (0.030338686, 'beer'),\n",
       "   (0.02866894, 'brandy'),\n",
       "   (0.025954587, 'sausages'),\n",
       "   (0.023116691, 'pure vanilla extract'),\n",
       "   (0.019079156, 'seasoning salt'),\n",
       "   (0.013559399, 'large eggs'),\n",
       "   (0.008988378, 'poultry seasoning'),\n",
       "   (0.008709988, 'allspice'),\n",
       "   (0.0085839685, 'tomatoes with juice')],\n",
       "  -7.399795958149104),\n",
       " ([(0.28418702, 'red bell pepper'),\n",
       "   (0.115778245, 'green bell pepper'),\n",
       "   (0.05610559, 'vegetable broth'),\n",
       "   (0.044588923, 'white onion'),\n",
       "   (0.040426, 'yellow bell pepper'),\n",
       "   (0.027659696, 'unsweetened coconut milk'),\n",
       "   (0.025065713, 'purple onion'),\n",
       "   (0.023309115, 'poblano chiles'),\n",
       "   (0.02252209, 'pinto beans'),\n",
       "   (0.021190092, 'fresh tomatoes'),\n",
       "   (0.019486872, 'lard'),\n",
       "   (0.01853913, 'chopped cilantro fresh'),\n",
       "   (0.01845027, 'green onions'),\n",
       "   (0.016218934, 'lentils'),\n",
       "   (0.014617129, 'green olives'),\n",
       "   (0.014074233, 'adobo sauce'),\n",
       "   (0.013526071, 'broth'),\n",
       "   (0.012933319, 'diced tomatoes'),\n",
       "   (0.010434436, 'chipotle peppers'),\n",
       "   (0.010352881, 'fresh pineapple')],\n",
       "  -7.780851209154618),\n",
       " ([(0.13286991, 'dry white wine'),\n",
       "   (0.04853419, 'arborio rice'),\n",
       "   (0.04055706, 'lemon zest'),\n",
       "   (0.040148243, 'asparagus'),\n",
       "   (0.038432766, 'peeled fresh ginger'),\n",
       "   (0.036425512, 'chives'),\n",
       "   (0.03589719, 'low sodium soy sauce'),\n",
       "   (0.032330938, 'reduced sodium chicken broth'),\n",
       "   (0.027105687, 'collard greens'),\n",
       "   (0.026875306, 'saffron threads'),\n",
       "   (0.026202818, 'crushed red pepper'),\n",
       "   (0.022570033, 'dark sesame oil'),\n",
       "   (0.019261835, 'pork sausages'),\n",
       "   (0.01854449, 'sea scallops'),\n",
       "   (0.017288612, 'unsalted butter'),\n",
       "   (0.016263485, 'sweetened coconut flakes'),\n",
       "   (0.013743711, 'large shrimp'),\n",
       "   (0.013583003, 'minced garlic'),\n",
       "   (0.013386113, 'chicken broth'),\n",
       "   (0.013016108, 'fennel')],\n",
       "  -8.721486308731588),\n",
       " ([(0.08791492, 'crushed red pepper flakes'),\n",
       "   (0.087846845, 'white vinegar'),\n",
       "   (0.08193072, 'eggplant'),\n",
       "   (0.07959793, 'crushed tomatoes'),\n",
       "   (0.060561974, 'chile pepper'),\n",
       "   (0.04414277, 'zucchini'),\n",
       "   (0.037986748, 'fresh spinach'),\n",
       "   (0.03658031, 'white sugar'),\n",
       "   (0.035316195, 'salt and ground black pepper'),\n",
       "   (0.03188317, 'red wine'),\n",
       "   (0.020869095, 'dry yeast'),\n",
       "   (0.020805802, 'chicken wings'),\n",
       "   (0.020559618, 'fresh ginger root'),\n",
       "   (0.01992383, 'chili pepper'),\n",
       "   (0.019207252, 'chili oil'),\n",
       "   (0.01743575, 'whole peeled tomatoes'),\n",
       "   (0.016960178, 'bamboo shoots'),\n",
       "   (0.014437178, 'dried oregano'),\n",
       "   (0.01318003, 'reduced-fat sour cream'),\n",
       "   (0.012194082, 'tomato paste')],\n",
       "  -8.893924118095011),\n",
       " ([(0.11390358, 'fish sauce'),\n",
       "   (0.08502238, 'shallots'),\n",
       "   (0.06591228, 'fresh lime juice'),\n",
       "   (0.057081725, 'light brown sugar'),\n",
       "   (0.047193423, 'lemongrass'),\n",
       "   (0.03445763, 'coconut milk'),\n",
       "   (0.030745445, 'medium shrimp'),\n",
       "   (0.027676981, 'lime'),\n",
       "   (0.02220527, 'shredded cheese'),\n",
       "   (0.020061405, 'mint'),\n",
       "   (0.01983021, 'Thai red curry paste'),\n",
       "   (0.018682709, 'kaffir lime leaves'),\n",
       "   (0.017660994, 'pecans'),\n",
       "   (0.017030923, 'penne'),\n",
       "   (0.01600311, 'cilantro'),\n",
       "   (0.015591398, 'lime wedges'),\n",
       "   (0.01537462, 'shrimp'),\n",
       "   (0.0148894135, 'jasmine rice'),\n",
       "   (0.014087729, 'chopped cilantro fresh'),\n",
       "   (0.013223389, 'yeast')],\n",
       "  -8.916919244195544),\n",
       " ([(0.1267518, 'mayonaise'),\n",
       "   (0.07572509, 'worcestershire sauce'),\n",
       "   (0.05736024, 'cider vinegar'),\n",
       "   (0.05046582, 'hot sauce'),\n",
       "   (0.04857939, 'ketchup'),\n",
       "   (0.046473213, 'dijon mustard'),\n",
       "   (0.031449907, 'brown rice'),\n",
       "   (0.030720994, 'broccoli florets'),\n",
       "   (0.024050238, 'green onions'),\n",
       "   (0.02326406, 'dry mustard'),\n",
       "   (0.022266902, 'lemon juice'),\n",
       "   (0.02205971, 'tofu'),\n",
       "   (0.02124557, 'cremini mushrooms'),\n",
       "   (0.019895554, 'lump crab meat'),\n",
       "   (0.01851497, 'coconut'),\n",
       "   (0.017792633, 'shredded cabbage'),\n",
       "   (0.016205065, 'bow-tie pasta'),\n",
       "   (0.0115153175, 'lemon slices'),\n",
       "   (0.010599829, 'large eggs'),\n",
       "   (0.010550508, 'brown sugar')],\n",
       "  -9.213876498973196),\n",
       " ([(0.061467573, 'feta cheese crumbles'),\n",
       "   (0.053476334, 'corn kernels'),\n",
       "   (0.051955257, 'chopped fresh mint'),\n",
       "   (0.050024096, 'romaine lettuce'),\n",
       "   (0.048759256, 'cucumber'),\n",
       "   (0.04185056, 'roma tomatoes'),\n",
       "   (0.03262401, 'ham'),\n",
       "   (0.032073516, 'english cucumber'),\n",
       "   (0.031654414, 'purple onion'),\n",
       "   (0.028480288, 'goat cheese'),\n",
       "   (0.02543677, 'cardamom pods'),\n",
       "   (0.024474487, 'fresh oregano'),\n",
       "   (0.02090515, 'lemon juice'),\n",
       "   (0.019875927, 'Italian bread'),\n",
       "   (0.019867055, 'tomatoes'),\n",
       "   (0.018797271, 'fresh dill'),\n",
       "   (0.018114073, 'pecan halves'),\n",
       "   (0.017845118, 'watercress'),\n",
       "   (0.016872246, 'vidalia onion'),\n",
       "   (0.015967647, 'cream cheese, soften')],\n",
       "  -9.359512252155305),\n",
       " ([(0.123137794, 'cooking spray'),\n",
       "   (0.08545243, 'balsamic vinegar'),\n",
       "   (0.07474339, 'large egg whites'),\n",
       "   (0.041482534, 'large eggs'),\n",
       "   (0.03644021, 'peaches'),\n",
       "   (0.034082815, 'grape tomatoes'),\n",
       "   (0.030537764, 'sherry vinegar'),\n",
       "   (0.028112493, 'self rising flour'),\n",
       "   (0.02587284, 'ice water'),\n",
       "   (0.025143672, 'cream of tartar'),\n",
       "   (0.02419396, 'semisweet chocolate'),\n",
       "   (0.023184622, 'unsalted butter'),\n",
       "   (0.020173542, 'brown sugar'),\n",
       "   (0.019853743, 'fontina cheese'),\n",
       "   (0.017705709, 'hazelnuts'),\n",
       "   (0.014554309, 'sweet chili sauce'),\n",
       "   (0.014452287, 'shallots'),\n",
       "   (0.012645194, 'prosciutto'),\n",
       "   (0.01256145, 'chees fresh mozzarella'),\n",
       "   (0.011949794, 'grapeseed oil')],\n",
       "  -9.893184417394886),\n",
       " ([(0.08999936, 'red chili peppers'),\n",
       "   (0.06812595, 'hot water'),\n",
       "   (0.062716864, 'chiles'),\n",
       "   (0.058805417, 'bread crumbs'),\n",
       "   (0.046896808, 'apple cider vinegar'),\n",
       "   (0.029612577, 'roasted peanuts'),\n",
       "   (0.025091361, 'slivered almonds'),\n",
       "   (0.024790457, 'lime zest'),\n",
       "   (0.0243496, 'lime juice'),\n",
       "   (0.024329698, 'beansprouts'),\n",
       "   (0.02329285, 'palm sugar'),\n",
       "   (0.02296073, 'polenta'),\n",
       "   (0.021953104, 'eggs'),\n",
       "   (0.01798194, 'shallots'),\n",
       "   (0.017217975, 'tamarind paste'),\n",
       "   (0.016708411, 'dried porcini mushrooms'),\n",
       "   (0.015533854, 'cream of chicken soup'),\n",
       "   (0.015524238, 'pico de gallo'),\n",
       "   (0.015254032, 'fish sauce'),\n",
       "   (0.0148104625, 'dried shrimp')],\n",
       "  -10.453109126979959),\n",
       " ([(0.21581426, 'flour'),\n",
       "   (0.077832885, 'cold water'),\n",
       "   (0.05619842, 'cooking oil'),\n",
       "   (0.047127035, 'eggs'),\n",
       "   (0.03526458, 'oil'),\n",
       "   (0.03476403, 'star anise'),\n",
       "   (0.023960363, 'iceberg lettuce'),\n",
       "   (0.02258886, 'lettuce'),\n",
       "   (0.020765169, 'button mushrooms'),\n",
       "   (0.019597156, 'caster sugar'),\n",
       "   (0.018796667, 'chicken thighs'),\n",
       "   (0.01874807, 'pork belly'),\n",
       "   (0.017014246, 'peppercorns'),\n",
       "   (0.013372939, 'pepper jack'),\n",
       "   (0.013066629, 'brown sugar'),\n",
       "   (0.0130411815, 'sherry'),\n",
       "   (0.0128337145, 'cognac'),\n",
       "   (0.0125145875, 'serrano chilies'),\n",
       "   (0.012387466, 'taco sauce'),\n",
       "   (0.011798818, 'mustard')],\n",
       "  -10.954375324791494),\n",
       " ([(0.09383065, 'rice'),\n",
       "   (0.089376785, 'cherry tomatoes'),\n",
       "   (0.0880805, 'fresh mint'),\n",
       "   (0.039009206, 'vegetables'),\n",
       "   (0.037373383, 'plain yogurt'),\n",
       "   (0.035202, 'fresh thyme leaves'),\n",
       "   (0.02897395, 'kimchi'),\n",
       "   (0.02578067, 'sugar pea'),\n",
       "   (0.023492722, 'ice'),\n",
       "   (0.022613693, 'creamy peanut butter'),\n",
       "   (0.021578377, 'greens'),\n",
       "   (0.021009654, 'kosher salt'),\n",
       "   (0.017564898, 'vodka'),\n",
       "   (0.015332966, 'shallots'),\n",
       "   (0.015251306, 'lemon'),\n",
       "   (0.013847422, 'turkey'),\n",
       "   (0.013001615, 'zucchini'),\n",
       "   (0.012825377, 'chicken livers'),\n",
       "   (0.01274377, 'boneless chicken thighs'),\n",
       "   (0.012572888, 'sambal ulek')],\n",
       "  -12.000644918119233),\n",
       " ([(0.07103722, 'tortilla chips'),\n",
       "   (0.06759195, 'white wine vinegar'),\n",
       "   (0.054473363, 'green pepper'),\n",
       "   (0.04658932, 'parsley'),\n",
       "   (0.04230761, 'fennel bulb'),\n",
       "   (0.033237424, 'salmon fillets'),\n",
       "   (0.033178844, 'fresh tarragon'),\n",
       "   (0.029447475, 'shallots'),\n",
       "   (0.02873796, 'shredded lettuce'),\n",
       "   (0.027551474, 'fresh parsley leaves'),\n",
       "   (0.025931088, 'cornflour'),\n",
       "   (0.02067122, 'ripe olives'),\n",
       "   (0.020658882, 'grated orange peel'),\n",
       "   (0.019868355, 'freshly grated parmesan'),\n",
       "   (0.019733174, 'fillets'),\n",
       "   (0.0194183, 'cream style corn'),\n",
       "   (0.01681871, 'canned black beans'),\n",
       "   (0.016652927, 'eggs'),\n",
       "   (0.014870689, 'tomatoes'),\n",
       "   (0.013385544, 'halibut fillets')],\n",
       "  -12.53442244955415),\n",
       " ([(0.08036962, 'whole milk'),\n",
       "   (0.07244586, 'low salt chicken broth'),\n",
       "   (0.056790907, 'unsalted butter'),\n",
       "   (0.05040996, 'grated nutmeg'),\n",
       "   (0.049610134, 'sweetened condensed milk'),\n",
       "   (0.039191917, 'cream'),\n",
       "   (0.037456494, 'large eggs'),\n",
       "   (0.035987336, 'bourbon whiskey'),\n",
       "   (0.02718091, 'crème fraîche'),\n",
       "   (0.024737902, 'plain flour'),\n",
       "   (0.022640135, 'fresh dill'),\n",
       "   (0.022632495, 'ground cardamom'),\n",
       "   (0.022294061, 'marsala wine'),\n",
       "   (0.021401903, 'dried red chile peppers'),\n",
       "   (0.017823951, 'pears'),\n",
       "   (0.017661642, 'sage leaves'),\n",
       "   (0.014980613, 'greek style plain yogurt'),\n",
       "   (0.012588988, 'great northern beans'),\n",
       "   (0.012198367, 'salad'),\n",
       "   (0.011984812, 'corn syrup')],\n",
       "  -13.158048899517683),\n",
       " ([(0.109419435, 'bacon'),\n",
       "   (0.077961735, 'cajun seasoning'),\n",
       "   (0.06982376, 'grated lemon zest'),\n",
       "   (0.067277625, 'whipping cream'),\n",
       "   (0.05522646, 'dark brown sugar'),\n",
       "   (0.03113171, 'cake flour'),\n",
       "   (0.027628692, 'corn oil'),\n",
       "   (0.025046576, 'unsalted butter'),\n",
       "   (0.02461028, 'light corn syrup'),\n",
       "   (0.0220292, 'eggs'),\n",
       "   (0.020405479, 'white bread'),\n",
       "   (0.019114804, 'caraway seeds'),\n",
       "   (0.018857308, 'dried currants'),\n",
       "   (0.01810451, 'vanilla ice cream'),\n",
       "   (0.01544106, 'shredded sharp cheddar cheese'),\n",
       "   (0.015379814, 'sweet italian sausage'),\n",
       "   (0.014755222, 'sirloin steak'),\n",
       "   (0.013878312, 'sweet corn'),\n",
       "   (0.012118318, 'grating cheese'),\n",
       "   (0.0120207425, 'asian pear')],\n",
       "  -13.811221173263661),\n",
       " ([(0.13024099, 'warm water'),\n",
       "   (0.08621997, 'active dry yeast'),\n",
       "   (0.04821659, 'bacon slices'),\n",
       "   (0.047075436, 'broccoli'),\n",
       "   (0.045163248, 'yukon gold potatoes'),\n",
       "   (0.044153057, 'bread flour'),\n",
       "   (0.040416062, 'mint leaves'),\n",
       "   (0.03632095, 'provolone cheese'),\n",
       "   (0.030890498, 'part-skim ricotta cheese'),\n",
       "   (0.021311792, 'old bay seasoning'),\n",
       "   (0.018131778, 'ranch dressing'),\n",
       "   (0.016842656, 'agave nectar'),\n",
       "   (0.016063811, 'spinach leaves'),\n",
       "   (0.015922753, 'lettuce leaves'),\n",
       "   (0.013908391, 'creole mustard'),\n",
       "   (0.013081285, 'gari'),\n",
       "   (0.012586897, 'sea salt'),\n",
       "   (0.01244841, 'semolina flour'),\n",
       "   (0.012188891, 'celery seed'),\n",
       "   (0.011683467, 'cornmeal')],\n",
       "  -14.038893174933232),\n",
       " ([(0.1150916, 'sauce'),\n",
       "   (0.06599774, 'garlic salt'),\n",
       "   (0.05555843, 'coconut oil'),\n",
       "   (0.048519466, 'thai basil'),\n",
       "   (0.04753979, 'chili'),\n",
       "   (0.04212261, 'kale'),\n",
       "   (0.036053326, 'ground cayenne pepper'),\n",
       "   (0.03207972, 'seasoning'),\n",
       "   (0.03085754, 'cooked chicken breasts'),\n",
       "   (0.024943264, 'pesto'),\n",
       "   (0.024604153, 'flank steak'),\n",
       "   (0.022109807, 'tilapia fillets'),\n",
       "   (0.021010235, 'cachaca'),\n",
       "   (0.019688543, 'lime'),\n",
       "   (0.016491197, 'minced ginger'),\n",
       "   (0.014044298, 'California bay leaves'),\n",
       "   (0.012352829, 'chile powder'),\n",
       "   (0.012262587, 'cake'),\n",
       "   (0.011481033, 'fresh corn'),\n",
       "   (0.011007587, 'sea salt')],\n",
       "  -14.204641657319959),\n",
       " ([(0.07196236, 'mushrooms'),\n",
       "   (0.06840257, 'beef broth'),\n",
       "   (0.06508699, 'fine sea salt'),\n",
       "   (0.04403141, 'red potato'),\n",
       "   (0.04395594, 'thyme sprigs'),\n",
       "   (0.03947947, 'pancetta'),\n",
       "   (0.027823592, 'barbecue sauce'),\n",
       "   (0.023711756, 'grated orange'),\n",
       "   (0.021704419, 'boiling potatoes'),\n",
       "   (0.020858856, 'elbow macaroni'),\n",
       "   (0.020374352, 'chicken pieces'),\n",
       "   (0.017965257, 'small red potato'),\n",
       "   (0.017774263, 'pearl onions'),\n",
       "   (0.016835399, 'finely chopped fresh parsley'),\n",
       "   (0.01673808, 'grated coconut'),\n",
       "   (0.015400718, 'black pepper'),\n",
       "   (0.013972909, 'skinless chicken breasts'),\n",
       "   (0.012907612, 'steak'),\n",
       "   (0.012252178, 'rib eye steaks'),\n",
       "   (0.0121406885, 'urad dal')],\n",
       "  -14.777833186498189),\n",
       " ([(0.100401014, 'sliced green onions'),\n",
       "   (0.07452604, 'chopped garlic'),\n",
       "   (0.059759054, 'taco seasoning'),\n",
       "   (0.056877404, 'baby spinach'),\n",
       "   (0.05135514, 'monterey jack'),\n",
       "   (0.04525015, 'reduced sodium soy sauce'),\n",
       "   (0.043228626, 'asian fish sauce'),\n",
       "   (0.042767566, 'minced onion'),\n",
       "   (0.041624367, '1% low-fat milk'),\n",
       "   (0.033684336, 'beef stock'),\n",
       "   (0.032413498, 'non-fat sour cream'),\n",
       "   (0.029502764, 'szechwan peppercorns'),\n",
       "   (0.023109762, 'gruyere cheese'),\n",
       "   (0.019097747, 'semi-sweet chocolate morsels'),\n",
       "   (0.019057805, 'fat skimmed chicken broth'),\n",
       "   (0.01856588, 'cauliflower florets'),\n",
       "   (0.014468544, 'crimini mushrooms'),\n",
       "   (0.012700592, 'chuck roast'),\n",
       "   (0.012335975, 'unsalted dry roast peanuts'),\n",
       "   (0.011505572, 'beef stew meat')],\n",
       "  -15.897524398862041),\n",
       " ([(0.074210495, 'white pepper'),\n",
       "   (0.066181265, 'pork tenderloin'),\n",
       "   (0.04582037, 'all purpose unbleached flour'),\n",
       "   (0.039410517, 'dried shiitake mushrooms'),\n",
       "   (0.035794646, 'maple syrup'),\n",
       "   (0.032177698, 'vegetable shortening'),\n",
       "   (0.031101637, 'clams'),\n",
       "   (0.027948832, 'masa harina'),\n",
       "   (0.025911706, 'hard-boiled egg'),\n",
       "   (0.025134137, 'corn husks'),\n",
       "   (0.024420617, 'lime rind'),\n",
       "   (0.020964783, 'rib'),\n",
       "   (0.020254124, 'orange bell pepper'),\n",
       "   (0.015844082, 'chicken bouillon granules'),\n",
       "   (0.015543726, 'chips'),\n",
       "   (0.0153819565, '2% reduced-fat milk'),\n",
       "   (0.014405909, 'chop fine pecan'),\n",
       "   (0.014067609, 'hass avocado'),\n",
       "   (0.010924263, 'vietnamese fish sauce'),\n",
       "   (0.010439745, 'chinese sausage')],\n",
       "  -17.844271105595663),\n",
       " ([(0.08369116, 'corn'),\n",
       "   (0.081692405, 'beef'),\n",
       "   (0.04128641, 'kidney beans'),\n",
       "   (0.037066974, 'mascarpone'),\n",
       "   (0.03669882, 'Mexican oregano'),\n",
       "   (0.03226408, 'tequila'),\n",
       "   (0.031143358, 'paneer'),\n",
       "   (0.027052501, 'fresh green bean'),\n",
       "   (0.026913987, 'ice cubes'),\n",
       "   (0.024534395, 'fat'),\n",
       "   (0.02001259, 'chicken legs'),\n",
       "   (0.016476737, 'fresh curry leaves'),\n",
       "   (0.015979066, 'chicken stock cubes'),\n",
       "   (0.015905276, 'fruit'),\n",
       "   (0.015637845, 'orange liqueur'),\n",
       "   (0.015186771, 'dark corn syrup'),\n",
       "   (0.014840996, 'fresh lime juice'),\n",
       "   (0.014645368, 'cooking wine'),\n",
       "   (0.0138912015, 'shredded parmesan cheese'),\n",
       "   (0.013627935, 'teas')],\n",
       "  -18.041888655614446)]"
      ]
     },
     "execution_count": 75,
     "metadata": {},
     "output_type": "execute_result"
    }
   ],
   "source": [
    "lda2.top_topics(corpus2)"
   ]
  },
  {
   "cell_type": "code",
   "execution_count": 88,
   "metadata": {},
   "outputs": [
    {
     "data": {
      "text/plain": [
       "-5.839332585536563"
      ]
     },
     "execution_count": 88,
     "metadata": {},
     "output_type": "execute_result"
    }
   ],
   "source": [
    "coherence = np.mean([elem[1] for elem in lda.top_topics(corpus)])\n",
    "coherence"
   ]
  },
  {
   "cell_type": "code",
   "execution_count": 89,
   "metadata": {},
   "outputs": [
    {
     "data": {
      "text/plain": [
       "-4.791302330783486"
      ]
     },
     "execution_count": 89,
     "metadata": {},
     "output_type": "execute_result"
    }
   ],
   "source": [
    "coherence2 = np.mean([elem[1] for elem in lda2.top_topics(corpus2)])\n",
    "coherence2"
   ]
  },
  {
   "cell_type": "code",
   "execution_count": 91,
   "metadata": {},
   "outputs": [],
   "source": [
    "def save_answers3(coherence, coherence2):\n",
    "    with open(\"cooking_LDA_pa_task3.txt\", \"w\") as fout:\n",
    "        fout.write(\" \".join([\"%3f\"%el for el in [coherence, coherence2]]))"
   ]
  },
  {
   "cell_type": "code",
   "execution_count": 92,
   "metadata": {},
   "outputs": [],
   "source": [
    "save_answers3(coherence, coherence2)"
   ]
  },
  {
   "cell_type": "markdown",
   "metadata": {},
   "source": [
    "Считается, что когерентность хорошо соотносится с человеческими оценками интерпретируемости тем. Поэтому на больших текстовых коллекциях когерентность обычно повышается, если убрать фоновую лексику. Однако в нашем случае этого не произошло. "
   ]
  },
  {
   "cell_type": "markdown",
   "metadata": {},
   "source": [
    "### Изучение влияния гиперпараметра alpha"
   ]
  },
  {
   "cell_type": "markdown",
   "metadata": {},
   "source": [
    "В этом разделе мы будем работать со второй моделью, то есть той, которая построена по сокращенному корпусу. \n",
    "\n",
    "Пока что мы посмотрели только на матрицу темы-слова, теперь давайте посмотрим на матрицу темы-документы. Выведите темы для нулевого (или любого другого) документа из корпуса, воспользовавшись методом *get_document_topics* второй модели:"
   ]
  },
  {
   "cell_type": "code",
   "execution_count": 97,
   "metadata": {},
   "outputs": [
    {
     "data": {
      "text/plain": [
       "[(10, 0.49465686), (11, 0.30093047), (18, 0.08878766)]"
      ]
     },
     "execution_count": 97,
     "metadata": {},
     "output_type": "execute_result"
    }
   ],
   "source": [
    "lda2.get_document_topics(bow=corpus2)[0]"
   ]
  },
  {
   "cell_type": "markdown",
   "metadata": {},
   "source": [
    "Также выведите содержимое переменной *.alpha* второй модели:"
   ]
  },
  {
   "cell_type": "code",
   "execution_count": 98,
   "metadata": {},
   "outputs": [
    {
     "data": {
      "text/plain": [
       "array([0.025, 0.025, 0.025, 0.025, 0.025, 0.025, 0.025, 0.025, 0.025,\n",
       "       0.025, 0.025, 0.025, 0.025, 0.025, 0.025, 0.025, 0.025, 0.025,\n",
       "       0.025, 0.025, 0.025, 0.025, 0.025, 0.025, 0.025, 0.025, 0.025,\n",
       "       0.025, 0.025, 0.025, 0.025, 0.025, 0.025, 0.025, 0.025, 0.025,\n",
       "       0.025, 0.025, 0.025, 0.025], dtype=float32)"
      ]
     },
     "execution_count": 98,
     "metadata": {},
     "output_type": "execute_result"
    }
   ],
   "source": [
    "lda2.alpha"
   ]
  },
  {
   "cell_type": "markdown",
   "metadata": {},
   "source": [
    "У вас должно получиться, что документ характеризуется небольшим числом тем. Попробуем поменять гиперпараметр alpha, задающий априорное распределение Дирихле для распределений тем в документах."
   ]
  },
  {
   "cell_type": "markdown",
   "metadata": {},
   "source": [
    "__Задание 4.__ Обучите третью модель: используйте сокращенный корпус (corpus2 и dictionary2) и установите параметр __alpha=1__, passes=5. Не забудьте про фиксацию seed! Выведите темы новой модели для нулевого документа; должно получиться, что распределение над множеством тем практически равномерное. Чтобы убедиться в том, что во второй модели документы описываются гораздо более разреженными распределениями, чем в третьей, посчитайте суммарное количество элементов, __превосходящих 0.01__, в матрицах темы-документы обеих моделей. Другими словами, запросите темы  модели для каждого документа с параметром *minimum_probability=0.01* и просуммируйте число элементов в получаемых массивах. Передайте две суммы (сначала для модели с alpha по умолчанию, затем для модели в alpha=1) в функцию save_answers4."
   ]
  },
  {
   "cell_type": "code",
   "execution_count": 99,
   "metadata": {},
   "outputs": [],
   "source": [
    "np.random.seed(76543)\n",
    "lda3 = models.LdaModel(corpus2, id2word=dictionary2, num_topics=40, passes=5, alpha=1)"
   ]
  },
  {
   "cell_type": "code",
   "execution_count": 100,
   "metadata": {},
   "outputs": [
    {
     "data": {
      "text/plain": [
       "<gensim.interfaces.TransformedCorpus at 0x1a272259e8>"
      ]
     },
     "execution_count": 100,
     "metadata": {},
     "output_type": "execute_result"
    }
   ],
   "source": [
    "lda2.get_document_topics(bow=corpus2, minimum_probability=0.01)"
   ]
  },
  {
   "cell_type": "code",
   "execution_count": 101,
   "metadata": {},
   "outputs": [],
   "source": [
    "count_lda2 = 0\n",
    "count_lda3 = 0\n",
    "for text in corpus2:\n",
    "    count_lda2 += len(lda2.get_document_topics(bow=text, minimum_probability=0.01))\n",
    "    count_lda3 += len(lda3.get_document_topics(bow=text, minimum_probability=0.01))"
   ]
  },
  {
   "cell_type": "code",
   "execution_count": 102,
   "metadata": {},
   "outputs": [],
   "source": [
    "def save_answers4(count_model2, count_model3):\n",
    "    with open(\"cooking_LDA_pa_task4.txt\", \"w\") as fout:\n",
    "        fout.write(\" \".join([str(el) for el in [count_model2, count_model3]]))"
   ]
  },
  {
   "cell_type": "code",
   "execution_count": 104,
   "metadata": {},
   "outputs": [],
   "source": [
    "save_answers4(count_lda2, count_lda3)"
   ]
  },
  {
   "cell_type": "markdown",
   "metadata": {},
   "source": [
    "Таким образом, гиперпараметр __alpha__ влияет на разреженность распределений тем в документах. Аналогично гиперпараметр __eta__ влияет на разреженность распределений слов в темах."
   ]
  },
  {
   "cell_type": "markdown",
   "metadata": {},
   "source": [
    "### LDA как способ понижения размерности\n",
    "Иногда, распределения над темами, найденные с помощью LDA, добавляют в матрицу объекты-признаки как дополнительные, семантические, признаки, и это может улучшить качество решения задачи. Для простоты давайте просто обучим классификатор рецептов на кухни на признаках, полученных из LDA, и измерим точность (accuracy).\n",
    "\n",
    "__Задание 5.__ Используйте модель, построенную по сокращенной выборке с alpha по умолчанию (вторую модель). Составьте матрицу $\\Theta = p(t|d)$ вероятностей тем в документах; вы можете использовать тот же метод get_document_topics, а также вектор правильных ответов y (в том же порядке, в котором рецепты идут в переменной recipes). Создайте объект RandomForestClassifier со 100 деревьями, с помощью функции cross_val_score вычислите среднюю accuracy по трем фолдам (перемешивать данные не нужно) и передайте в функцию save_answers5."
   ]
  },
  {
   "cell_type": "code",
   "execution_count": null,
   "metadata": {},
   "outputs": [],
   "source": [
    "from sklearn.ensemble import RandomForestClassifier\n",
    "from sklearn.model_selection import cross_val_score"
   ]
  },
  {
   "cell_type": "code",
   "execution_count": null,
   "metadata": {},
   "outputs": [],
   "source": []
  },
  {
   "cell_type": "code",
   "execution_count": null,
   "metadata": {},
   "outputs": [],
   "source": []
  },
  {
   "cell_type": "code",
   "execution_count": null,
   "metadata": {},
   "outputs": [],
   "source": []
  },
  {
   "cell_type": "code",
   "execution_count": 116,
   "metadata": {},
   "outputs": [],
   "source": [
    "def save_answers5(accuracy):\n",
    "     with open(\"cooking_LDA_pa_task5.txt\", \"w\") as fout:\n",
    "        fout.write(str(accuracy))"
   ]
  },
  {
   "cell_type": "code",
   "execution_count": null,
   "metadata": {},
   "outputs": [],
   "source": []
  },
  {
   "cell_type": "markdown",
   "metadata": {},
   "source": [
    "Для такого большого количества классов это неплохая точность. Вы можете попроовать обучать RandomForest на исходной матрице частот слов, имеющей значительно большую размерность, и увидеть, что accuracy увеличивается на 10–15%. Таким образом, LDA собрал не всю, но достаточно большую часть информации из выборки, в матрице низкого ранга."
   ]
  },
  {
   "cell_type": "markdown",
   "metadata": {},
   "source": [
    "### LDA — вероятностная модель\n",
    "Матричное разложение, использующееся в LDA, интерпретируется как следующий процесс генерации документов.\n",
    "\n",
    "Для документа $d$ длины $n_d$:\n",
    "1. Из априорного распределения Дирихле с параметром alpha сгенерировать распределение над множеством тем: $\\theta_d \\sim Dirichlet(\\alpha)$\n",
    "1. Для каждого слова $w = 1, \\dots, n_d$:\n",
    "    1. Сгенерировать тему из дискретного распределения $t \\sim \\theta_{d}$\n",
    "    1. Сгенерировать слово из дискретного распределения $w \\sim \\phi_{t}$.\n",
    "    \n",
    "Подробнее об этом в [Википедии](https://en.wikipedia.org/wiki/Latent_Dirichlet_allocation).\n",
    "\n",
    "В контексте нашей задачи получается, что, используя данный генеративный процесс, можно создавать новые рецепты. Вы можете передать в функцию модель и число ингредиентов и сгенерировать рецепт :)"
   ]
  },
  {
   "cell_type": "code",
   "execution_count": null,
   "metadata": {},
   "outputs": [],
   "source": [
    "def generate_recipe(model, num_ingredients):\n",
    "    theta = np.random.dirichlet(model.alpha)\n",
    "    for i in range(num_ingredients):\n",
    "        t = np.random.choice(np.arange(model.num_topics), p=theta)\n",
    "        topic = model.show_topic(t, topn=model.num_terms)\n",
    "        topic_distr = [x[1] for x in topic]\n",
    "        terms = [x[0] for x in topic]\n",
    "        w = np.random.choice(terms, p=topic_distr)\n",
    "        print w"
   ]
  },
  {
   "cell_type": "code",
   "execution_count": null,
   "metadata": {},
   "outputs": [],
   "source": []
  },
  {
   "cell_type": "markdown",
   "metadata": {},
   "source": [
    "### Интерпретация построенной модели\n",
    "Вы можете рассмотреть топы ингредиентов каждой темы. Большиснтво тем сами по себе похожи на рецепты; в некоторых собираются продукты одного вида, например, свежие фрукты или разные виды сыра.\n",
    "\n",
    "Попробуем эмпирически соотнести наши темы с национальными кухнями (cuisine). Построим матрицу $A$ размера темы $x$ кухни, ее элементы $a_{tc}$ — суммы $p(t|d)$ по всем документам $d$, которые отнесены к кухне $c$. Нормируем матрицу на частоты рецептов по разным кухням, чтобы избежать дисбаланса между кухнями. Следующая функция получает на вход объект модели, объект корпуса и исходные данные и возвращает нормированную матрицу $A$. Ее удобно визуализировать с помощью seaborn."
   ]
  },
  {
   "cell_type": "code",
   "execution_count": null,
   "metadata": {},
   "outputs": [],
   "source": [
    "import pandas\n",
    "import seaborn\n",
    "from matplotlib import pyplot as plt\n",
    "%matplotlib inline"
   ]
  },
  {
   "cell_type": "code",
   "execution_count": null,
   "metadata": {},
   "outputs": [],
   "source": [
    "def compute_topic_cuisine_matrix(model, corpus, recipes):\n",
    "    # составляем вектор целевых признаков\n",
    "    targets = list(set([recipe[\"cuisine\"] for recipe in recipes]))\n",
    "    # составляем матрицу\n",
    "    tc_matrix = pandas.DataFrame(data=np.zeros((model.num_topics, len(targets))), columns=targets)\n",
    "    for recipe, bow in zip(recipes, corpus):\n",
    "        recipe_topic = model.get_document_topics(bow)\n",
    "        for t, prob in recipe_topic:\n",
    "            tc_matrix[recipe[\"cuisine\"]][t] += prob\n",
    "    # нормируем матрицу\n",
    "    target_sums = pandas.DataFrame(data=np.zeros((1, len(targets))), columns=targets)\n",
    "    for recipe in recipes:\n",
    "        target_sums[recipe[\"cuisine\"]] += 1\n",
    "    return pandas.DataFrame(tc_matrix.values/target_sums.values, columns=tc_matrix.columns)"
   ]
  },
  {
   "cell_type": "code",
   "execution_count": null,
   "metadata": {},
   "outputs": [],
   "source": [
    "def plot_matrix(tc_matrix):\n",
    "    plt.figure(figsize=(10, 10))\n",
    "    seaborn.heatmap(tc_matrix, square=True)"
   ]
  },
  {
   "cell_type": "code",
   "execution_count": null,
   "metadata": {},
   "outputs": [],
   "source": [
    "# Визуализируйте матрицу\n"
   ]
  },
  {
   "cell_type": "markdown",
   "metadata": {},
   "source": [
    "Чем темнее квадрат в матрице, тем больше связь этой темы с данной кухней. Мы видим, что у нас есть темы, которые связаны с несколькими кухнями. Такие темы показывают набор ингредиентов, которые популярны в кухнях нескольких народов, то есть указывают на схожесть кухонь этих народов. Некоторые темы распределены по всем кухням равномерно, они показывают наборы продуктов, которые часто используются в кулинарии всех стран. "
   ]
  },
  {
   "cell_type": "markdown",
   "metadata": {},
   "source": [
    "Жаль, что в датасете нет названий рецептов, иначе темы было бы проще интерпретировать..."
   ]
  },
  {
   "cell_type": "markdown",
   "metadata": {},
   "source": [
    "### Заключение\n",
    "В этом задании вы построили несколько моделей LDA, посмотрели, на что влияют гиперпараметры модели и как можно использовать построенную модель. "
   ]
  }
 ],
 "metadata": {
  "kernelspec": {
   "display_name": "Python 3",
   "language": "python",
   "name": "python3"
  },
  "language_info": {
   "codemirror_mode": {
    "name": "ipython",
    "version": 3
   },
   "file_extension": ".py",
   "mimetype": "text/x-python",
   "name": "python",
   "nbconvert_exporter": "python",
   "pygments_lexer": "ipython3",
   "version": "3.6.8"
  }
 },
 "nbformat": 4,
 "nbformat_minor": 1
}
