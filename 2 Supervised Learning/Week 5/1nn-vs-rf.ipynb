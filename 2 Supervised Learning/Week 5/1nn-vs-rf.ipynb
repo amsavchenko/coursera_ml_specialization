{
 "cells": [
  {
   "cell_type": "code",
   "execution_count": 1,
   "metadata": {},
   "outputs": [],
   "source": [
    "import pandas as pd\n",
    "import numpy as np\n",
    "from matplotlib import pyplot as plt\n",
    "%matplotlib inline\n",
    "\n",
    "import warnings\n",
    "warnings.filterwarnings('ignore')"
   ]
  },
  {
   "cell_type": "code",
   "execution_count": 2,
   "metadata": {},
   "outputs": [],
   "source": [
    "from sklearn.datasets import load_digits"
   ]
  },
  {
   "cell_type": "code",
   "execution_count": 4,
   "metadata": {},
   "outputs": [],
   "source": [
    "digits = load_digits()"
   ]
  },
  {
   "cell_type": "code",
   "execution_count": 5,
   "metadata": {},
   "outputs": [],
   "source": [
    "X = digits['data']\n",
    "y = digits['target']"
   ]
  },
  {
   "cell_type": "code",
   "execution_count": 6,
   "metadata": {},
   "outputs": [],
   "source": [
    "train_tr = int(X.shape[0] * 0.75)"
   ]
  },
  {
   "cell_type": "code",
   "execution_count": 7,
   "metadata": {},
   "outputs": [],
   "source": [
    "X_train, X_test, y_train, y_test = X[:train_tr, :], X[train_tr:, :], y[:train_tr], y[train_tr:]"
   ]
  },
  {
   "cell_type": "code",
   "execution_count": 10,
   "metadata": {},
   "outputs": [
    {
     "data": {
      "text/plain": [
       "(1347, 64)"
      ]
     },
     "execution_count": 10,
     "metadata": {},
     "output_type": "execute_result"
    }
   ],
   "source": [
    "X_train.shape"
   ]
  },
  {
   "cell_type": "markdown",
   "metadata": {},
   "source": [
    "## Задание 1"
   ]
  },
  {
   "cell_type": "code",
   "execution_count": 54,
   "metadata": {},
   "outputs": [],
   "source": [
    "class OneNN():\n",
    "    def __init__(self):\n",
    "        pass\n",
    "    \n",
    "    def fit(self, X_train, y_train):\n",
    "        self.X_train = X_train\n",
    "        self.y_train = y_train\n",
    "    \n",
    "    def _count_distances(self, x) -> list:\n",
    "        d = []\n",
    "        for i in range(self.X_train.shape[0]):\n",
    "            distance = 0\n",
    "            for j in range(self.X_train.shape[1]):\n",
    "                distance += (x[j] - X_train[i, j]) ** 2\n",
    "            d.append(distance)\n",
    "        return d\n",
    "    \n",
    "    def _better_count_distances(self, x):\n",
    "        d = []\n",
    "        for i in range(self.X_train.shape[0]):\n",
    "            d.append((np.linalg.norm(x - self.X_train[i])) ** 2)\n",
    "        return d\n",
    "    \n",
    "    def _find_min(self, d):\n",
    "        idx = 0\n",
    "        min_elem = d[idx]\n",
    "        for i in range(1, len(d)):\n",
    "            if d[i] < min_elem:\n",
    "                min_elem = d[i]\n",
    "                idx = i\n",
    "        return idx\n",
    "    \n",
    "    def predict(self, X_test):\n",
    "        y_pred = np.zeros(X_test.shape[0])\n",
    "        for i, x in enumerate(X_test):\n",
    "            d = self._better_count_distances(x)\n",
    "            min_idx = self._find_min(d)\n",
    "            y_pred[i] = self.y_train[min_idx]\n",
    "        return y_pred"
   ]
  },
  {
   "cell_type": "code",
   "execution_count": 55,
   "metadata": {},
   "outputs": [],
   "source": [
    "one_nn = OneNN()"
   ]
  },
  {
   "cell_type": "code",
   "execution_count": 56,
   "metadata": {},
   "outputs": [],
   "source": [
    "one_nn.fit(X_train, y_train)"
   ]
  },
  {
   "cell_type": "code",
   "execution_count": 57,
   "metadata": {},
   "outputs": [],
   "source": [
    "y_pred2 = one_nn.predict(X_test)"
   ]
  },
  {
   "cell_type": "code",
   "execution_count": 46,
   "metadata": {},
   "outputs": [
    {
     "data": {
      "text/plain": [
       "array([3., 7., 3., 3., 4., 6., 6., 6., 4., 9., 1., 5., 0., 9., 6., 2., 8.,\n",
       "       2., 0., 0., 1., 7., 6., 3., 2., 1., 7., 4., 6., 3., 1., 3., 9., 1.,\n",
       "       7., 6., 8., 4., 3., 1., 4., 0., 5., 3., 6., 9., 6., 1., 7., 5., 4.,\n",
       "       4., 7., 2., 8., 2., 2., 5., 7., 9., 5., 4., 8., 8., 4., 9., 0., 8.,\n",
       "       0., 1., 2., 3., 4., 5., 6., 7., 8., 9., 0., 1., 2., 3., 4., 5., 6.,\n",
       "       7., 8., 9., 0., 1., 2., 3., 4., 5., 6., 7., 8., 9., 0., 9., 5., 5.,\n",
       "       6., 5., 0., 9., 8., 9., 8., 4., 1., 7., 7., 3., 5., 1., 0., 0., 2.,\n",
       "       2., 7., 8., 2., 0., 1., 2., 6., 3., 3., 7., 3., 3., 4., 6., 6., 6.,\n",
       "       4., 9., 1., 5., 0., 9., 5., 2., 8., 2., 0., 0., 1., 7., 6., 3., 2.,\n",
       "       1., 7., 4., 6., 3., 1., 3., 9., 1., 7., 6., 8., 4., 3., 1., 4., 0.,\n",
       "       5., 3., 6., 9., 6., 1., 7., 5., 4., 4., 7., 2., 8., 2., 2., 5., 7.,\n",
       "       9., 5., 4., 8., 8., 4., 9., 0., 9., 9., 8., 0., 1., 2., 3., 4., 5.,\n",
       "       6., 7., 1., 9., 0., 1., 2., 3., 4., 5., 6., 9., 0., 1., 2., 3., 4.,\n",
       "       5., 6., 7., 1., 9., 0., 9., 5., 5., 6., 5., 0., 9., 8., 5., 8., 4.,\n",
       "       1., 7., 7., 3., 5., 1., 0., 0., 2., 2., 7., 8., 2., 0., 1., 2., 6.,\n",
       "       3., 3., 7., 7., 8., 4., 6., 6., 6., 9., 9., 1., 5., 0., 9., 5., 2.,\n",
       "       8., 0., 1., 7., 6., 3., 2., 1., 7., 9., 6., 3., 1., 9., 9., 1., 7.,\n",
       "       6., 8., 4., 3., 1., 4., 0., 5., 3., 6., 9., 6., 1., 7., 5., 4., 4.,\n",
       "       7., 2., 2., 5., 7., 3., 5., 9., 4., 5., 0., 8., 9., 8., 0., 1., 2.,\n",
       "       3., 4., 5., 6., 7., 8., 9., 0., 1., 2., 3., 4., 5., 6., 7., 8., 9.,\n",
       "       0., 1., 2., 5., 4., 5., 6., 7., 8., 9., 0., 9., 5., 5., 6., 5., 0.,\n",
       "       9., 8., 9., 8., 4., 1., 7., 7., 3., 5., 1., 0., 0., 2., 2., 7., 8.,\n",
       "       2., 0., 1., 2., 6., 3., 8., 7., 3., 3., 4., 6., 6., 6., 4., 9., 1.,\n",
       "       5., 0., 9., 5., 2., 8., 2., 0., 0., 1., 7., 6., 3., 2., 1., 7., 4.,\n",
       "       6., 3., 1., 3., 9., 1., 7., 6., 8., 4., 5., 1., 4., 0., 5., 3., 6.,\n",
       "       9., 6., 1., 7., 5., 4., 4., 7., 2., 8., 2., 2., 5., 7., 9., 5., 4.,\n",
       "       8., 1., 4., 9., 0., 8., 9., 8.])"
      ]
     },
     "execution_count": 46,
     "metadata": {},
     "output_type": "execute_result"
    }
   ],
   "source": [
    "y_pred"
   ]
  },
  {
   "cell_type": "code",
   "execution_count": 59,
   "metadata": {},
   "outputs": [],
   "source": [
    "penalty = sum((y_test != y_pred2).astype(int)) / len(y_pred)"
   ]
  },
  {
   "cell_type": "code",
   "execution_count": 60,
   "metadata": {},
   "outputs": [],
   "source": [
    "def write_to_file(name, data):\n",
    "    with open(f'{name}.txt', 'w') as file:\n",
    "        file.write(str(data))"
   ]
  },
  {
   "cell_type": "code",
   "execution_count": 61,
   "metadata": {},
   "outputs": [],
   "source": [
    "write_to_file('1nn_vs_rf_1', penalty)"
   ]
  },
  {
   "cell_type": "markdown",
   "metadata": {},
   "source": [
    "## Задание 2"
   ]
  },
  {
   "cell_type": "code",
   "execution_count": 62,
   "metadata": {},
   "outputs": [],
   "source": [
    "from sklearn.ensemble import RandomForestClassifier"
   ]
  },
  {
   "cell_type": "code",
   "execution_count": 63,
   "metadata": {},
   "outputs": [],
   "source": [
    "rf = RandomForestClassifier(n_estimators=1000)"
   ]
  },
  {
   "cell_type": "code",
   "execution_count": 64,
   "metadata": {},
   "outputs": [
    {
     "data": {
      "text/plain": [
       "RandomForestClassifier(bootstrap=True, class_weight=None, criterion='gini',\n",
       "            max_depth=None, max_features='auto', max_leaf_nodes=None,\n",
       "            min_impurity_decrease=0.0, min_impurity_split=None,\n",
       "            min_samples_leaf=1, min_samples_split=2,\n",
       "            min_weight_fraction_leaf=0.0, n_estimators=1000, n_jobs=1,\n",
       "            oob_score=False, random_state=None, verbose=0,\n",
       "            warm_start=False)"
      ]
     },
     "execution_count": 64,
     "metadata": {},
     "output_type": "execute_result"
    }
   ],
   "source": [
    "rf.fit(X_train, y_train)"
   ]
  },
  {
   "cell_type": "code",
   "execution_count": 65,
   "metadata": {},
   "outputs": [],
   "source": [
    "y_pred_rf = rf.predict(X_test)"
   ]
  },
  {
   "cell_type": "code",
   "execution_count": 66,
   "metadata": {},
   "outputs": [],
   "source": [
    "penalty2 = sum((y_test != y_pred_rf).astype(int)) / len(y_pred)"
   ]
  },
  {
   "cell_type": "code",
   "execution_count": 67,
   "metadata": {},
   "outputs": [
    {
     "data": {
      "text/plain": [
       "0.06444444444444444"
      ]
     },
     "execution_count": 67,
     "metadata": {},
     "output_type": "execute_result"
    }
   ],
   "source": [
    "penalty2"
   ]
  },
  {
   "cell_type": "code",
   "execution_count": 68,
   "metadata": {},
   "outputs": [],
   "source": [
    "write_to_file('1nn_vs_rf_2', penalty2)"
   ]
  },
  {
   "cell_type": "code",
   "execution_count": null,
   "metadata": {},
   "outputs": [],
   "source": []
  }
 ],
 "metadata": {
  "kernelspec": {
   "display_name": "Python 3",
   "language": "python",
   "name": "python3"
  },
  "language_info": {
   "codemirror_mode": {
    "name": "ipython",
    "version": 3
   },
   "file_extension": ".py",
   "mimetype": "text/x-python",
   "name": "python",
   "nbconvert_exporter": "python",
   "pygments_lexer": "ipython3",
   "version": "3.6.8"
  }
 },
 "nbformat": 4,
 "nbformat_minor": 2
}
